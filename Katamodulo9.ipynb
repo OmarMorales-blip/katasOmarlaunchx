{
 "cells": [
  {
   "cell_type": "markdown",
   "metadata": {},
   "source": [
    "# Ejercicio 1"
   ]
  },
  {
   "cell_type": "code",
   "execution_count": 4,
   "metadata": {},
   "outputs": [],
   "source": [
    "# Función para leer 3 tanques de combustible y muestre el promedio\n",
    "\n",
    "def metricas(tanque_verde, tanque_rojo, tanque_negro):\n",
    "    promedio = (tanque_verde + tanque_rojo + tanque_negro) / 3\n",
    "    return f\"\"\"Metricas combustible:\n",
    "    Promedio: {promedio}%\n",
    "    Tanque verde: {tanque_verde}%\n",
    "    Tanque rojo: {tanque_rojo}%\n",
    "    Tanque negro: {tanque_negro}% \"\"\""
   ]
  },
  {
   "cell_type": "code",
   "execution_count": 5,
   "metadata": {},
   "outputs": [
    {
     "name": "stdout",
     "output_type": "stream",
     "text": [
      "Metricas combustible:\n",
      "    Promedio: 35.0%\n",
      "    Tanque verde: 30%\n",
      "    Tanque rojo: 20%\n",
      "    Tanque negro: 55% \n"
     ]
    }
   ],
   "source": [
    "# Llamamos a la función que genera el reporte print(funcion(tanque1, tanque2, tanque3))\n",
    "print(metricas(30, 20, 55))"
   ]
  },
  {
   "cell_type": "code",
   "execution_count": 3,
   "metadata": {},
   "outputs": [
    {
     "data": {
      "text/plain": [
       "55.666666666666664"
      ]
     },
     "execution_count": 3,
     "metadata": {},
     "output_type": "execute_result"
    }
   ],
   "source": [
    "# Función promedio \n",
    "def promedio(values):\n",
    "    total = sum(values)\n",
    "    numero = len(values)\n",
    "    return total / numero\n",
    "\n",
    "promedio([12, 60, 95]) "
   ]
  },
  {
   "cell_type": "code",
   "execution_count": 6,
   "metadata": {},
   "outputs": [
    {
     "name": "stdout",
     "output_type": "stream",
     "text": [
      "Metricas combustible:\n",
      "    Promedio: 38.666666666666664%\n",
      "    Tanque verde: 48%\n",
      "    Tanque rojo: 56%\n",
      "    Tanque negro: 12% \n",
      "    \n"
     ]
    }
   ],
   "source": [
    "# Actualiza la función\n",
    "def metricas(tanque_verde, tanque_rojo, tanque_negro):\n",
    "    return f\"\"\"Metricas combustible:\n",
    "    Promedio: {promedio([tanque_verde, tanque_rojo, tanque_negro])}%\n",
    "    Tanque verde: {tanque_verde}%\n",
    "    Tanque rojo: {tanque_rojo}%\n",
    "    Tanque negro: {tanque_negro}% \n",
    "    \"\"\"\n",
    "print(metricas(48, 56, 12))"
   ]
  },
  {
   "cell_type": "markdown",
   "metadata": {},
   "source": [
    "# Ejercicio 2"
   ]
  },
  {
   "cell_type": "code",
   "execution_count": 9,
   "metadata": {},
   "outputs": [
    {
     "name": "stdout",
     "output_type": "stream",
     "text": [
      "\n",
      "    Mision a marte\n",
      "    Tiempo hasta el destino: 121800 minutos\n",
      "    Combustible restante: 130000 litros\n",
      "    \n"
     ]
    }
   ],
   "source": [
    "# Función con un informe preciso de la misión. Considera hora de prelanzamiento, tiempo de vuelo, destino, tanque externo y tanque interno\n",
    "\n",
    "def reporte(prelanzamiento, tiempo_vuelo, destino, tanque_externo, tanque_interno):\n",
    "    return f\"\"\"\n",
    "    Mision a {destino}\n",
    "    Tiempo hasta el destino: {prelanzamiento + tiempo_vuelo} minutos\n",
    "    Combustible restante: {tanque_externo + tanque_interno} litros\n",
    "    \"\"\"\n",
    "\n",
    "print(reporte(1800, 120000, \"marte\", 60000, 70000))"
   ]
  },
  {
   "cell_type": "code",
   "execution_count": 10,
   "metadata": {},
   "outputs": [
    {
     "name": "stdout",
     "output_type": "stream",
     "text": [
      "\n",
      "    Mision a Jupiter\n",
      "    Tiempo hasta el destino: 199 minutes\n",
      "    Combustible restante: 2000000\n",
      "    \n"
     ]
    }
   ],
   "source": [
    "# Escribe tu nueva función de reporte considerando lo anterior\n",
    "\n",
    "def reporte(destino, *minutes, **fuel_reservoirs):\n",
    "    return f\"\"\"\n",
    "    Mision a {destino}\n",
    "    Tiempo hasta el destino: {sum(minutes)} minutos\n",
    "    Combustible restante: {sum(fuel_reservoirs.values())}\n",
    "    \"\"\"\n",
    "\n",
    "print(reporte(\"Jupiter\", 60, 40, 99, interno=1200000, externo=800000))"
   ]
  },
  {
   "cell_type": "code",
   "execution_count": 16,
   "metadata": {},
   "outputs": [
    {
     "name": "stdout",
     "output_type": "stream",
     "text": [
      "\n",
      "    Mision a Jupiter\n",
      "    Tiempo hasta el destino: 199 minutos\n",
      "    Combustible restante: 2000000\n",
      "    interno tanque --> 1200000 litros\n",
      "externo tanque --> 800000 litros\n",
      "\n"
     ]
    }
   ],
   "source": [
    "# Escribe tu nueva función \n",
    "\n",
    "def reporte(destino, *minutes, **fuel_reservoirs):\n",
    "    reporte1 = f\"\"\"\n",
    "    Mision a {destino}\n",
    "    Tiempo hasta el destino: {sum(minutes)} minutos\n",
    "    Combustible restante: {sum(fuel_reservoirs.values())}\n",
    "    \"\"\"\n",
    "    for tank_name, litros in fuel_reservoirs.items():\n",
    "        reporte1 += f\"{tank_name} tanque --> {litros} litros\\n\"\n",
    "    return reporte1\n",
    "\n",
    "print(reporte(\"Jupiter\", 60, 40, 99, interno=1200000, externo=800000))"
   ]
  }
 ],
 "metadata": {
  "interpreter": {
   "hash": "1160442719dfaf5061d90c84fd95dadc28ea7f5e2d779b1a3ee70466ba751d1a"
  },
  "kernelspec": {
   "display_name": "Python 3.10.2 64-bit (windows store)",
   "language": "python",
   "name": "python3"
  },
  "language_info": {
   "codemirror_mode": {
    "name": "ipython",
    "version": 3
   },
   "file_extension": ".py",
   "mimetype": "text/x-python",
   "name": "python",
   "nbconvert_exporter": "python",
   "pygments_lexer": "ipython3",
   "version": "3.10.2"
  },
  "orig_nbformat": 4
 },
 "nbformat": 4,
 "nbformat_minor": 2
}
