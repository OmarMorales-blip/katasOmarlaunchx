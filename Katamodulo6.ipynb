{
 "cells": [
  {
   "cell_type": "markdown",
   "metadata": {},
   "source": [
    "# Ejercicio 1"
   ]
  },
  {
   "cell_type": "code",
   "execution_count": 2,
   "metadata": {},
   "outputs": [
    {
     "name": "stdout",
     "output_type": "stream",
     "text": [
      "El numero de planetas en el sistema es de  8\n"
     ]
    }
   ],
   "source": [
    "planets =[\"mercurio\",\"venus\",\"tierra\",\"marte\",\"jupiter\",\"saturno\",\"urano\",\"neptuno\"]\n",
    "number_of_planets = len(planets)\n",
    "print(\"El numero de planetas en el sistema es de \",number_of_planets)"
   ]
  },
  {
   "cell_type": "code",
   "execution_count": 4,
   "metadata": {},
   "outputs": [
    {
     "name": "stdout",
     "output_type": "stream",
     "text": [
      "El numero de planetas en el sistema es de  10\n",
      "el ultimo planeta del sistema es pluto\n"
     ]
    }
   ],
   "source": [
    "#agregamos pluton a la lista\n",
    "planets.append(\"pluto\")\n",
    "number_of_planets = len(planets)\n",
    "print(\"El numero de planetas en el sistema es de \", number_of_planets)\n",
    "print(\"el ultimo planeta del sistema es\", planets[-1])"
   ]
  },
  {
   "cell_type": "markdown",
   "metadata": {},
   "source": [
    "# Ejercicio 2"
   ]
  },
  {
   "cell_type": "code",
   "execution_count": 15,
   "metadata": {},
   "outputs": [],
   "source": [
    "# Lista de planetas\n",
    "planets = ['Mercury', 'Venus', 'Earth', 'Mars', 'Jupiter', 'Saturn', 'Neptune']"
   ]
  },
  {
   "cell_type": "code",
   "execution_count": 16,
   "metadata": {},
   "outputs": [],
   "source": [
    "# solicita al usuario el nombre del planeta\n",
    "planeta = input(\"Introduzca el nombre del planeta, empezando con letra mayuscula\")"
   ]
  },
  {
   "cell_type": "code",
   "execution_count": 17,
   "metadata": {},
   "outputs": [],
   "source": [
    "# Encuentra el planeta en la lista\n",
    "planets_index = planets.index(planeta)"
   ]
  },
  {
   "cell_type": "code",
   "execution_count": 18,
   "metadata": {},
   "outputs": [
    {
     "name": "stdout",
     "output_type": "stream",
     "text": [
      "Los planetas mas cercanos al sol que  Mars\n",
      "['Mercury', 'Venus', 'Earth']\n"
     ]
    }
   ],
   "source": [
    "# mostrar planetas mas cercanos al sol\n",
    "print(\"Los planetas mas cercanos al sol que \", planeta)\n",
    "print(planets[0:planets_index])"
   ]
  },
  {
   "cell_type": "code",
   "execution_count": 19,
   "metadata": {},
   "outputs": [
    {
     "name": "stdout",
     "output_type": "stream",
     "text": [
      "Los planetas mas lejanos al sol que  Mars\n",
      "['Jupiter', 'Saturn', 'Neptune']\n"
     ]
    }
   ],
   "source": [
    "# mostrar planetas mas lejanos\n",
    "print(\"Los planetas mas lejanos al sol que \", planeta)\n",
    "print(planets[planets_index + 1:])"
   ]
  }
 ],
 "metadata": {
  "interpreter": {
   "hash": "1160442719dfaf5061d90c84fd95dadc28ea7f5e2d779b1a3ee70466ba751d1a"
  },
  "kernelspec": {
   "display_name": "Python 3.10.2 64-bit (windows store)",
   "language": "python",
   "name": "python3"
  },
  "language_info": {
   "codemirror_mode": {
    "name": "ipython",
    "version": 3
   },
   "file_extension": ".py",
   "mimetype": "text/x-python",
   "name": "python",
   "nbconvert_exporter": "python",
   "pygments_lexer": "ipython3",
   "version": "3.10.2"
  },
  "orig_nbformat": 4
 },
 "nbformat": 4,
 "nbformat_minor": 2
}
