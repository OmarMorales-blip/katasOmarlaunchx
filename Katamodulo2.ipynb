{
 "cells": [
  {
   "cell_type": "markdown",
   "metadata": {},
   "source": [
    "# Crear un entorno virtual"
   ]
  },
  {
   "cell_type": "markdown",
   "metadata": {},
   "source": [
    "Se ejecuta en terminal el comando: python3 -m venv env y despúes se activa con cd env/Scripts/activate"
   ]
  },
  {
   "cell_type": "markdown",
   "metadata": {},
   "source": [
    "![](2022-02-13-11-57-09.png)"
   ]
  },
  {
   "cell_type": "markdown",
   "metadata": {},
   "source": [
    "# Instalar una biblioteca\n",
    "\n",
    "Ejecutamos el comando pip freeze para ver las bibliotecas instaldas"
   ]
  },
  {
   "cell_type": "markdown",
   "metadata": {},
   "source": [
    "![](2022-02-13-12-01-12.png)"
   ]
  },
  {
   "cell_type": "markdown",
   "metadata": {},
   "source": [
    "Despues ejecutamos el comando pip install python-dateutil para instalar la biblioteca y si lo hicimos correctamente nos arrojara el mensaje Succesfully installed"
   ]
  },
  {
   "cell_type": "markdown",
   "metadata": {},
   "source": [
    "![](2022-02-13-12-04-50.png)"
   ]
  },
  {
   "cell_type": "markdown",
   "metadata": {},
   "source": [
    "Volvemos a ejecutar el comando pip freeze para verificar que se instalo la biblioteca"
   ]
  },
  {
   "cell_type": "markdown",
   "metadata": {},
   "source": [
    "![](2022-02-13-12-07-17.png)"
   ]
  },
  {
   "cell_type": "markdown",
   "metadata": {},
   "source": [
    "# Desactivar el entorno virtual\n",
    "\n",
    "Solo ejecuta el comando deactivate "
   ]
  },
  {
   "cell_type": "markdown",
   "metadata": {},
   "source": [
    "![](2022-02-13-12-09-22.png)"
   ]
  }
 ],
 "metadata": {
  "interpreter": {
   "hash": "1160442719dfaf5061d90c84fd95dadc28ea7f5e2d779b1a3ee70466ba751d1a"
  },
  "kernelspec": {
   "display_name": "Python 3.10.2 64-bit (windows store)",
   "language": "python",
   "name": "python3"
  },
  "language_info": {
   "name": "python",
   "version": "3.10.2"
  },
  "orig_nbformat": 4
 },
 "nbformat": 4,
 "nbformat_minor": 2
}
