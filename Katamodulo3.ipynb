{
 "cells": [
  {
   "cell_type": "markdown",
   "metadata": {},
   "source": [
    "# Escribir declaraciones if, else y elif"
   ]
  },
  {
   "cell_type": "markdown",
   "metadata": {},
   "source": [
    "Un asteroide se acerca, y viaja a una velocidad de 49 km/s."
   ]
  },
  {
   "cell_type": "code",
   "execution_count": 2,
   "metadata": {},
   "outputs": [
    {
     "name": "stdout",
     "output_type": "stream",
     "text": [
      "Alerta de impacto de asteroide\n"
     ]
    }
   ],
   "source": [
    "a = 49\n",
    "if a > 25:\n",
    "    print(\"Alerta de impacto de asteroide\")\n",
    "else:\n",
    "    print(\"No se han detectado amenazas\")"
   ]
  },
  {
   "cell_type": "markdown",
   "metadata": {},
   "source": [
    "Si un asteroide entra en la atmósfera de la Tierra a una velocidad mayor o igual a 20 km/s, a veces produce un rayo de luz que se puede ver desde la Tierra. Escribe la lógica condicional que usa declaraciones if, else, y elif para alertar a las personas de todo el mundo que deben buscar un asteroide en el cielo. ¡Hay uno que se dirige a la tierra ahora a una velocidad de 19 km/s!"
   ]
  },
  {
   "cell_type": "code",
   "execution_count": 3,
   "metadata": {},
   "outputs": [
    {
     "name": "stdout",
     "output_type": "stream",
     "text": [
      "No hay asteroides detectados\n"
     ]
    }
   ],
   "source": [
    "a = 19\n",
    "b = 20\n",
    "if a > b:\n",
    "    print(\"Alerta de avistamiento de asteroide\")\n",
    "elif a == b:\n",
    "    print(\"Alerta avistamiento de asteroide\") \n",
    "else:\n",
    "    print(\"No hay asteroides detectados\")\n"
   ]
  },
  {
   "cell_type": "markdown",
   "metadata": {},
   "source": [
    "# Uso de operadores and y or"
   ]
  },
  {
   "cell_type": "code",
   "execution_count": 6,
   "metadata": {},
   "outputs": [
    {
     "name": "stdout",
     "output_type": "stream",
     "text": [
      "Alerta de impacto de asteroide\n"
     ]
    }
   ],
   "source": [
    "velasteroide = 22\n",
    "tamasteroide = 35\n",
    "if velasteroide > 25 or tamasteroide > 25:\n",
    "    print(\"Alerta de impacto de asteroide\")\n",
    "elif velasteroide == 25 and tamasteroide == 25:\n",
    "    print(\"Alerta de impacto inminente\")\n",
    "elif velasteroide > 20:\n",
    "    print(\"Alerta asteroide visible\")\n",
    "else:\n",
    "    print(\"No se han detectado amenazas\")"
   ]
  }
 ],
 "metadata": {
  "interpreter": {
   "hash": "1160442719dfaf5061d90c84fd95dadc28ea7f5e2d779b1a3ee70466ba751d1a"
  },
  "kernelspec": {
   "display_name": "Python 3.10.2 64-bit (windows store)",
   "language": "python",
   "name": "python3"
  },
  "language_info": {
   "codemirror_mode": {
    "name": "ipython",
    "version": 3
   },
   "file_extension": ".py",
   "mimetype": "text/x-python",
   "name": "python",
   "nbconvert_exporter": "python",
   "pygments_lexer": "ipython3",
   "version": "3.10.2"
  },
  "orig_nbformat": 4
 },
 "nbformat": 4,
 "nbformat_minor": 2
}
